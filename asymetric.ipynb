{
 "cells": [
  {
   "cell_type": "code",
   "execution_count": 4,
   "metadata": {},
   "outputs": [
    {
     "name": "stdout",
     "output_type": "stream",
     "text": [
      "The autoreload extension is already loaded. To reload it, use:\n",
      "  %reload_ext autoreload\n"
     ]
    }
   ],
   "source": [
    "%load_ext autoreload\n",
    "%autoreload 2\n",
    "\n",
    "from perturbations import *\n",
    "from representation import *\n",
    "from ls import *\n",
    "import jupyter_utils as utils\n",
    "from ea import *\n",
    "from cross import *\n",
    "\n",
    "import numpy as np\n",
    "import matplotlib.pyplot as plt\n",
    "import tsplib95"
   ]
  },
  {
   "cell_type": "code",
   "execution_count": 12,
   "metadata": {},
   "outputs": [
    {
     "name": "stdout",
     "output_type": "stream",
     "text": [
      "size of matrix:  39\n"
     ]
    }
   ],
   "source": [
    "# load problem from the library\n",
    "problem = tsplib95.load(\"./archives/asym/ftv38.atsp/ftv38.atsp\")\n",
    "\n",
    "n = problem.dimension\n",
    "distance_matrix = utils.blocky_weights_to_asym_matrix(problem.edge_weights, n)\n",
    "print(\"size of matrix: \", n)\n",
    "# best = 1610\n",
    "fitness = fitness_wrapper(distance_matrix)"
   ]
  },
  {
   "cell_type": "code",
   "execution_count": 23,
   "metadata": {},
   "outputs": [
    {
     "name": "stdout",
     "output_type": "stream",
     "text": [
      "2679.6 110.23719880330776\n",
      "[2589 2821 2809 2703 2751 2679 2614 2796 2507 2527]\n"
     ]
    }
   ],
   "source": [
    "perturbation = perturb_invers_smaller\n",
    "# perturb_move\n",
    "# perturb_switch\n",
    "# perturb_invert\n",
    "# perturb_invers_smaller\n",
    "\n",
    "\n",
    "\n",
    "ls = ls_first_improvement\n",
    "\n",
    "\n",
    "\n",
    "# init_fn = better_init_wrapper(size=n, dist_matrix=distance_matrix)\n",
    "\n",
    "\n",
    "init_fn = random_init_wrapper(size=n)\n",
    "\n",
    "\n",
    "\n",
    "max_evals = 20_000\n",
    "\n",
    "\n",
    "trials = 10\n",
    "\n",
    "\n",
    "\n",
    "fitness_list = []\n",
    "\n",
    "\n",
    "\n",
    "for trial in range(trials):\n",
    "\n",
    "    results = ls(\n",
    "\n",
    "        fitness_fn=fitness,\n",
    "        initialisation_fn=init_fn,\n",
    "        perturbation_fn=perturbation,\n",
    "        stop_cond=max_evals,\n",
    "    )\n",
    "\n",
    "\n",
    "    fitness_list.append(results[\"best_fitness\"])\n",
    "\n",
    "\n",
    "\n",
    "fitness_list = np.array(fitness_list)\n",
    "\n",
    "\n",
    "\n",
    "print(np.mean(fitness_list), np.std(fitness_list))\n",
    "print(fitness_list)"
   ]
  }
 ],
 "metadata": {
  "kernelspec": {
   "display_name": "evo",
   "language": "python",
   "name": "python3"
  },
  "language_info": {
   "codemirror_mode": {
    "name": "ipython",
    "version": 3
   },
   "file_extension": ".py",
   "mimetype": "text/x-python",
   "name": "python",
   "nbconvert_exporter": "python",
   "pygments_lexer": "ipython3",
   "version": "3.11.9"
  }
 },
 "nbformat": 4,
 "nbformat_minor": 2
}
