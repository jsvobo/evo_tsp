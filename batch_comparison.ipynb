{
 "cells": [
  {
   "cell_type": "code",
   "execution_count": 2,
   "metadata": {},
   "outputs": [],
   "source": [
    "%load_ext autoreload\n",
    "%autoreload 2\n",
    "\n",
    "from perturbations import *\n",
    "from representation import *\n",
    "from ls import *\n",
    "import jupyter_utils as utils\n",
    "\n",
    "import numpy as np\n",
    "import matplotlib.pyplot as plt\n",
    "import tsplib95"
   ]
  },
  {
   "cell_type": "code",
   "execution_count": 3,
   "metadata": {},
   "outputs": [
    {
     "name": "stdout",
     "output_type": "stream",
     "text": [
      "size of matrix:  29\n"
     ]
    }
   ],
   "source": [
    "# load problem from the library\n",
    "problem = tsplib95.load(\"./archives/bayg29.tsp/bayg29.tsp\")\n",
    "#  ./archives/bayg29.tsp/bayg29.tsp\n",
    "n = problem.dimension\n",
    "distance_matrix = utils.weights_to_matrix(problem.edge_weights)\n",
    "print(\"size of matrix: \", n)\n",
    "# best = 1610\n",
    "fitness = fitness_wrapper(distance_matrix)"
   ]
  },
  {
   "cell_type": "code",
   "execution_count": 4,
   "metadata": {},
   "outputs": [],
   "source": [
    "perturbation = perturb_move\n",
    "#           perturb_move\n",
    "#           perturb_invert\n",
    "#           perturb_switch\n",
    "\n",
    "ls = ls_first_improvement\n",
    "#           ls_first_improvement\n",
    "#           ...\n",
    "\n",
    "init_fn = better_init_wrapper(size=n, dist_matrix=distance_matrix)\n",
    "#           random_init_wrapper(size=n)\n",
    "#           better_init_wrapper(size=n,dist_matrix = distance_matrix)\n",
    "\n",
    "max_evals = 100_000"
   ]
  },
  {
   "cell_type": "code",
   "execution_count": 5,
   "metadata": {},
   "outputs": [
    {
     "name": "stdout",
     "output_type": "stream",
     "text": [
      "1780.9 65.1313288671435\n",
      "[1847. 1773. 1671. 1772. 1810. 1871. 1759. 1672. 1786. 1848.]\n"
     ]
    }
   ],
   "source": [
    "trials = 10\n",
    "fitness_list = []\n",
    "for trial in range(trials):\n",
    "    results = ls(\n",
    "        fitness_fn=fitness,\n",
    "        initialisation_fn=init_fn,\n",
    "        perturbation_fn=perturbation,\n",
    "        stop_cond=max_evals,\n",
    "    )\n",
    "    fitness_list.append(results[\"best_fitness\"])\n",
    "\n",
    "fitness_list = np.array(fitness_list)\n",
    "print(np.mean(fitness_list), np.std(fitness_list))\n",
    "print(fitness_list)"
   ]
  }
 ],
 "metadata": {
  "kernelspec": {
   "display_name": "evo",
   "language": "python",
   "name": "python3"
  },
  "language_info": {
   "codemirror_mode": {
    "name": "ipython",
    "version": 3
   },
   "file_extension": ".py",
   "mimetype": "text/x-python",
   "name": "python",
   "nbconvert_exporter": "python",
   "pygments_lexer": "ipython3",
   "version": "3.11.9"
  }
 },
 "nbformat": 4,
 "nbformat_minor": 2
}
