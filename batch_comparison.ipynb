{
 "cells": [
  {
   "cell_type": "code",
   "execution_count": 1,
   "metadata": {},
   "outputs": [],
   "source": [
    "%load_ext autoreload\n",
    "%autoreload 2\n",
    "\n",
    "from perturbations import *\n",
    "from representation import *\n",
    "from ls import *\n",
    "import jupyter_utils as utils\n",
    "from ea import *\n",
    "from cross import *\n",
    "\n",
    "import numpy as np\n",
    "import matplotlib.pyplot as plt\n",
    "import tsplib95"
   ]
  },
  {
   "cell_type": "code",
   "execution_count": 111,
   "metadata": {},
   "outputs": [
    {
     "name": "stdout",
     "output_type": "stream",
     "text": [
      "size of matrix:  29\n"
     ]
    }
   ],
   "source": [
    "# load problem from the library\n",
    "problem = tsplib95.load(\"./archives/bayg29.tsp/bayg29.tsp\")\n",
    "#\n",
    "# \"./archives/brazil58.tsp/brazil58.tsp\"\n",
    "#  ./archives/bayg29.tsp/bayg29.tsp\n",
    "n = problem.dimension\n",
    "distance_matrix = utils.weights_to_matrix(problem.edge_weights)\n",
    "print(\"size of matrix: \", n)\n",
    "# best = 1610\n",
    "fitness = fitness_wrapper(distance_matrix)"
   ]
  },
  {
   "cell_type": "code",
   "execution_count": 99,
   "metadata": {},
   "outputs": [
    {
     "name": "stdout",
     "output_type": "stream",
     "text": [
      "size of matrix:  58\n"
     ]
    }
   ],
   "source": [
    "# load problem from the library\n",
    "problem = tsplib95.load(\"./archives/brazil58.tsp/brazil58.tsp\")\n",
    "#\n",
    "# \"./archives/brazil58.tsp/brazil58.tsp\"\n",
    "#  ./archives/bayg29.tsp/bayg29.tsp\n",
    "n = problem.dimension\n",
    "distance_matrix = utils.weights_to_matrix(problem.edge_weights)\n",
    "print(\"size of matrix: \", n)\n",
    "# best = 1610\n",
    "fitness = fitness_wrapper(distance_matrix)"
   ]
  },
  {
   "cell_type": "code",
   "execution_count": 101,
   "metadata": {},
   "outputs": [
    {
     "name": "stdout",
     "output_type": "stream",
     "text": [
      "size of matrix:  180\n"
     ]
    }
   ],
   "source": [
    "# load problem from the library\n",
    "problem = tsplib95.load(\"./archives/brg180.tsp/brg180.tsp\")\n",
    "#\n",
    "# \"./archives/brazil58.tsp/brazil58.tsp\"\n",
    "#  ./archives/bayg29.tsp/bayg29.tsp\n",
    "n = problem.dimension\n",
    "distance_matrix = utils.blocky_weights_to_sym_matrix(problem.edge_weights, n)\n",
    "print(\"size of matrix: \", n)\n",
    "fitness = fitness_wrapper(distance_matrix)"
   ]
  },
  {
   "cell_type": "code",
   "execution_count": 96,
   "metadata": {},
   "outputs": [
    {
     "name": "stdout",
     "output_type": "stream",
     "text": [
      "4472.0 1708.132313376221\n",
      "[2690. 5650. 2400. 6330. 2010. 5830. 2580. 6340. 5430. 5460.]\n"
     ]
    }
   ],
   "source": [
    "perturbation = perturb_invert\n",
    "#           perturb_move\n",
    "#           perturb_invert\n",
    "#           perturb_switch\n",
    "\n",
    "ls = ls_first_improvement\n",
    "\n",
    "# init_fn = better_init_wrapper(size=n, dist_matrix=distance_matrix)\n",
    "init_fn = constructive_heuristics_init_wrapper(\n",
    "    size=n, dist_matrix=distance_matrix\n",
    ")  # here select init!\n",
    "max_evals = 20_000\n",
    "trials = 10\n",
    "\n",
    "\n",
    "fitness_list = []\n",
    "\n",
    "\n",
    "for trial in range(trials):\n",
    "\n",
    "    results = ls(\n",
    "        fitness_fn=fitness,\n",
    "        initialisation_fn=init_fn,\n",
    "        perturbation_fn=perturbation,\n",
    "        stop_cond=max_evals,\n",
    "    )\n",
    "\n",
    "    fitness_list.append(results[\"best_fitness\"])\n",
    "\n",
    "\n",
    "fitness_list = np.array(fitness_list)\n",
    "\n",
    "\n",
    "print(np.mean(fitness_list), np.std(fitness_list))\n",
    "print(fitness_list)"
   ]
  },
  {
   "cell_type": "code",
   "execution_count": null,
   "metadata": {},
   "outputs": [],
   "source": [
    "perturbation = perturb_invert\n",
    "#           perturb_move\n",
    "#           perturb_invert\n",
    "#           perturb_switch\n",
    "\n",
    "ls = ls_first_improvement_with_reinit\n",
    "\n",
    "init_fn = better_init_wrapper(size=n, dist_matrix=distance_matrix)\n",
    "\n",
    "max_evals = 20_000\n",
    "trials = 10\n",
    "\n",
    "fitness_list = []\n",
    "for trial in range(trials):\n",
    "\n",
    "    results = ls(\n",
    "        fitness_fn=fitness,\n",
    "        initialisation_fn=init_fn,\n",
    "        perturbation_fn=perturbation,\n",
    "        stop_cond=max_evals,\n",
    "    )\n",
    "\n",
    "    fitness_list.append(results[\"best_fitness\"])\n",
    "\n",
    "\n",
    "fitness_list = np.array(fitness_list)\n",
    "\n",
    "print(np.mean(fitness_list), np.std(fitness_list))\n",
    "print(fitness_list)"
   ]
  },
  {
   "cell_type": "code",
   "execution_count": 103,
   "metadata": {},
   "outputs": [
    {
     "name": "stdout",
     "output_type": "stream",
     "text": [
      "3349.0 1697.1001738259295\n",
      "[5430. 5430. 1980. 1960. 1960. 1960. 1960. 5430. 1960. 5420.]\n"
     ]
    }
   ],
   "source": [
    "perturbation = invert_subseq\n",
    "#           switch_cities\n",
    "#           move_cities\n",
    "#           invert_subseq\n",
    "\n",
    "\n",
    "ls = ls_best_improvement\n",
    "\n",
    "\n",
    "init_fn = constructive_heuristics_init_wrapper(size=n, dist_matrix=distance_matrix)\n",
    "\n",
    "\n",
    "max_evals = 20_000\n",
    "trials = 10\n",
    "\n",
    "\n",
    "fitness_list = []\n",
    "\n",
    "\n",
    "for trial in range(trials):\n",
    "\n",
    "    results = ls(\n",
    "        fitness_fn=fitness,\n",
    "        initialisation_fn=init_fn,\n",
    "        perturbation_operation=perturbation,\n",
    "        stop_cond=max_evals,\n",
    "    )\n",
    "\n",
    "    fitness_list.append(results[\"best_fitness\"])\n",
    "\n",
    "\n",
    "fitness_list = np.array(fitness_list)\n",
    "\n",
    "\n",
    "print(np.mean(fitness_list), np.std(fitness_list))\n",
    "print(fitness_list)"
   ]
  },
  {
   "cell_type": "code",
   "execution_count": 113,
   "metadata": {},
   "outputs": [
    {
     "name": "stdout",
     "output_type": "stream",
     "text": [
      "approx number of offsprings created from each generation:  750.0\n",
      "starting evolution:  best fitness of init 4323.0\n",
      "1642.0 0.0\n",
      "[1642.]\n"
     ]
    }
   ],
   "source": [
    "init = better_init_wrapper(size=n, dist_matrix=distance_matrix)\n",
    "# will be reused inside the function to init the population\n",
    "\n",
    "# select crossover!\n",
    "crossover = crossover_scx\n",
    "# crossover_pmx\n",
    "# crossover_scx\n",
    "\n",
    "perturb = perturb_invert\n",
    "\n",
    "# population management\n",
    "replacement = combined_replacement\n",
    "selection = tournament_selection\n",
    "\n",
    "# generations consts\n",
    "prob_cross = 0.5\n",
    "prob_mut = 0.1\n",
    "gen_size = 1000\n",
    "num_offsprings = 1500\n",
    "tourn_size = 50\n",
    "stoping_criterion = 20_000\n",
    "\n",
    "# evaluation const\n",
    "trials = 1\n",
    "\n",
    "print(\n",
    "    \"approx number of offsprings created from each generation: \",\n",
    "    num_offsprings * prob_cross,\n",
    ")\n",
    "last_history = []\n",
    "for i in range(trials):\n",
    "    results = ea_alg(\n",
    "        fitness_fn=fitness,\n",
    "        init_fn=init,\n",
    "        selection_fn=selection,\n",
    "        crossover_fn=crossover,\n",
    "        mutation_fn=perturb,\n",
    "        replacement_fn=replacement,\n",
    "        generation_size=gen_size,\n",
    "        distance_matrix=distance_matrix,\n",
    "        p_cross=prob_cross,\n",
    "        offspring_num=num_offsprings,\n",
    "        p_mut=prob_mut,\n",
    "        tournament_size=tourn_size,\n",
    "        max_evaluations=stoping_criterion,\n",
    "    )\n",
    "    list_of_results.append(results[\"best_fitness\"])\n",
    "\n",
    "list_of_results = np.array(list_of_results)\n",
    "\n",
    "\n",
    "print(np.mean(list_of_results), np.std(list_of_results))\n",
    "print(list_of_results)"
   ]
  },
  {
   "cell_type": "markdown",
   "metadata": {},
   "source": [
    "### Porovnání inicializací."
   ]
  },
  {
   "cell_type": "code",
   "execution_count": 82,
   "metadata": {},
   "outputs": [
    {
     "name": "stdout",
     "output_type": "stream",
     "text": [
      "801193.8 17460.97109441511\n",
      "[803610. 803390. 774460. 823830. 798950. 805400. 795400. 816060. 835460.\n",
      " 789980. 804610. 803610. 813470. 765000. 798530. 801280. 822880. 813050.\n",
      " 827360. 828880. 817170. 820020. 822230. 798460. 781070. 794050. 813490.\n",
      " 790240. 810400. 764030. 776110. 804560. 803960. 798620. 794990. 810960.\n",
      " 813380. 793510. 796050. 801540. 795800. 808710. 799990. 751530. 814600.\n",
      " 805460. 778600. 769760. 789320. 815870.]\n"
     ]
    }
   ],
   "source": [
    "# init_fn = constructive_heuristics_init_wrapper(size=n, dist_matrix=distance_matrix)\n",
    "# init_fn = random_init_wrapper(size=n)\n",
    "init_fn = better_init_wrapper(size=n, dist_matrix=distance_matrix)\n",
    "\n",
    "trials = 50\n",
    "list_results = []\n",
    "for i in range(trials):\n",
    "    list_results.append(fitness(init_fn()))\n",
    "list_results = np.array(list_results)\n",
    "print(np.mean(list_results), np.std(list_results))\n",
    "print(list_results)"
   ]
  }
 ],
 "metadata": {
  "kernelspec": {
   "display_name": "evo",
   "language": "python",
   "name": "python3"
  },
  "language_info": {
   "codemirror_mode": {
    "name": "ipython",
    "version": 3
   },
   "file_extension": ".py",
   "mimetype": "text/x-python",
   "name": "python",
   "nbconvert_exporter": "python",
   "pygments_lexer": "ipython3",
   "version": "3.11.9"
  }
 },
 "nbformat": 4,
 "nbformat_minor": 2
}
