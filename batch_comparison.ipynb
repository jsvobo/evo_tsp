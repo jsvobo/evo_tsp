{
 "cells": [
  {
   "cell_type": "code",
   "execution_count": null,
   "metadata": {},
   "outputs": [],
   "source": [
    "%load_ext autoreload\n",
    "%autoreload 2\n",
    "\n",
    "from perturbations import *\n",
    "from representation import *\n",
    "from ls import *\n",
    "import jupyter_utils as utils\n",
    "\n",
    "import numpy as np\n",
    "import matplotlib.pyplot as plt\n",
    "import tsplib95"
   ]
  },
  {
   "cell_type": "code",
   "execution_count": null,
   "metadata": {},
   "outputs": [],
   "source": [
    "# load problem from the library\n",
    "problem = tsplib95.load(\"./archives/bayg29.tsp/bayg29.tsp\")\n",
    "#  ./archives/bayg29.tsp/bayg29.tsp\n",
    "n = problem.dimension\n",
    "distance_matrix = utils.weights_to_matrix(problem.edge_weights)\n",
    "print(\"size of matrix: \", n)\n",
    "# best = 1610"
   ]
  },
  {
   "cell_type": "code",
   "execution_count": null,
   "metadata": {},
   "outputs": [],
   "source": [
    "perturbation = perturb_move\n",
    "#           perturb_move\n",
    "#           perturb_invert\n",
    "#           perturb_switch\n",
    "\n",
    "ls = ls_first_improvement\n",
    "#           ls_first_improvement\n",
    "#           ...\n",
    "\n",
    "init_fn = better_init_wrapper(size=n, dist_matrix=distance_matrix)\n",
    "#           random_init_wrapper(size=n)\n",
    "#           better_init_wrapper(size=n,dist_matrix = distance_matrix)\n",
    "\n",
    "max_steps = 200\n",
    "max_evals = 1_000_000"
   ]
  },
  {
   "cell_type": "code",
   "execution_count": null,
   "metadata": {},
   "outputs": [],
   "source": [
    "trials = 10\n",
    "fitness_list = []\n",
    "for trial in range(trials):\n",
    "    results = ls(\n",
    "        fitness_fn=fitness,\n",
    "        initialisation_fn=init_fn,\n",
    "        perturbation_fn=perturbation,\n",
    "        max_steps=max_steps,\n",
    "        max_evals=max_evals,\n",
    "    )\n",
    "    fitness_list.append(results[\"best_fitness\"])\n",
    "\n",
    "fitness_list = np.array(fitness_list)\n",
    "print(np.mean(fitness_list), np.std(fitness_list))\n",
    "print(fitness_list)\n",
    "\n",
    "# 10 tries, 200 and 1_000_000 limits, 29 cities, smallest=1610\n",
    "# for move perturbation: 1802 , time = 20s\n",
    "# for invert perturbation: 1948 , time= 39s\n",
    "# for switch perturbation: 1776 , time = 10s"
   ]
  }
 ],
 "metadata": {
  "language_info": {
   "name": "python"
  }
 },
 "nbformat": 4,
 "nbformat_minor": 2
}
