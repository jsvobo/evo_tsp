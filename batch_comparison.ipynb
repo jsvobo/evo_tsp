{
 "cells": [
  {
   "cell_type": "code",
   "execution_count": 21,
   "metadata": {},
   "outputs": [
    {
     "name": "stdout",
     "output_type": "stream",
     "text": [
      "The autoreload extension is already loaded. To reload it, use:\n",
      "  %reload_ext autoreload\n"
     ]
    }
   ],
   "source": [
    "%load_ext autoreload\n",
    "%autoreload 2\n",
    "\n",
    "from perturbations import *\n",
    "from representation import *\n",
    "from ls import *\n",
    "import jupyter_utils as utils\n",
    "\n",
    "import numpy as np\n",
    "import matplotlib.pyplot as plt\n",
    "import tsplib95"
   ]
  },
  {
   "cell_type": "code",
   "execution_count": 2,
   "metadata": {},
   "outputs": [
    {
     "name": "stdout",
     "output_type": "stream",
     "text": [
      "size of matrix:  29\n"
     ]
    }
   ],
   "source": [
    "# load problem from the library\n",
    "problem = tsplib95.load(\"./archives/bayg29.tsp/bayg29.tsp\")\n",
    "#  ./archives/bayg29.tsp/bayg29.tsp\n",
    "n = problem.dimension\n",
    "distance_matrix = utils.weights_to_matrix(problem.edge_weights)\n",
    "print(\"size of matrix: \", n)\n",
    "# best = 1610\n",
    "fitness = fitness_wrapper(distance_matrix)"
   ]
  },
  {
   "cell_type": "code",
   "execution_count": 34,
   "metadata": {},
   "outputs": [
    {
     "name": "stdout",
     "output_type": "stream",
     "text": [
      "1884.52 128.2175089447615\n",
      "[1827. 1881. 1870. 2031. 1894. 1794. 1811. 1839. 1766. 1860. 2008. 1960.\n",
      " 2036. 2314. 1905. 2081. 1801. 2040. 1842. 1953. 1850. 1950. 1761. 1807.\n",
      " 1997. 1768. 1677. 1804. 2023. 1817. 1818. 1966. 1735. 1937. 1964. 1864.\n",
      " 1960. 2114. 1751. 1688. 1797. 1826. 1725. 1805. 1951. 1801. 2101. 1842.\n",
      " 1984. 1630.]\n"
     ]
    }
   ],
   "source": [
    "perturbation = perturb_move\n",
    "#           perturb_move\n",
    "#           perturb_invert\n",
    "#           perturb_switch\n",
    "\n",
    "ls = ls_first_improvement\n",
    "\n",
    "init_fn = better_init_wrapper(size=n, dist_matrix=distance_matrix)\n",
    "\n",
    "max_evals = 10_000\n",
    "trials = 50\n",
    "\n",
    "\n",
    "fitness_list = []\n",
    "\n",
    "\n",
    "for trial in range(trials):\n",
    "\n",
    "    results = ls(\n",
    "\n",
    "        fitness_fn=fitness,\n",
    "        initialisation_fn=init_fn,\n",
    "        perturbation_fn=perturbation,\n",
    "        stop_cond=max_evals,\n",
    "    )\n",
    "\n",
    "\n",
    "    fitness_list.append(results[\"best_fitness\"])\n",
    "\n",
    "\n",
    "\n",
    "fitness_list = np.array(fitness_list)\n",
    "\n",
    "\n",
    "print(np.mean(fitness_list), np.std(fitness_list))\n",
    "print(fitness_list)"
   ]
  },
  {
   "cell_type": "code",
   "execution_count": 38,
   "metadata": {},
   "outputs": [
    {
     "name": "stdout",
     "output_type": "stream",
     "text": [
      "1991.92 154.93131897715196\n",
      "[1772. 2106. 1851. 2177. 1892. 1844. 1981. 2108. 1822. 2119. 1764. 1791.\n",
      " 2079. 1869. 1913. 1949. 1960. 2217. 1985. 2423. 2128. 2039. 1859. 1735.\n",
      " 1977. 2009. 1878. 1866. 2222. 2012. 1989. 2079. 2049. 1894. 1881. 2144.\n",
      " 1930. 1739. 1739. 2187. 2084. 2029. 2029. 1962. 2169. 1909. 2210. 2336.\n",
      " 1939. 1951.]\n"
     ]
    }
   ],
   "source": [
    "perturbation = perturb_switch\n",
    "#           perturb_move\n",
    "#           perturb_invert\n",
    "#           perturb_switch\n",
    "\n",
    "ls = ls_first_improvement_with_reinit\n",
    "\n",
    "init_fn = better_init_wrapper(size=n, dist_matrix=distance_matrix)\n",
    "\n",
    "max_evals = 10_000\n",
    "trials = 50\n",
    "\n",
    "fitness_list = []\n",
    "for trial in range(trials):\n",
    "\n",
    "    results = ls(\n",
    "        fitness_fn=fitness,\n",
    "        initialisation_fn=init_fn,\n",
    "        perturbation_fn=perturbation,\n",
    "        stop_cond=max_evals,\n",
    "    )\n",
    "\n",
    "    fitness_list.append(results[\"best_fitness\"])\n",
    "\n",
    "\n",
    "fitness_list = np.array(fitness_list)\n",
    "\n",
    "print(np.mean(fitness_list), np.std(fitness_list))\n",
    "print(fitness_list)"
   ]
  }
 ],
 "metadata": {
  "kernelspec": {
   "display_name": "evo",
   "language": "python",
   "name": "python3"
  },
  "language_info": {
   "codemirror_mode": {
    "name": "ipython",
    "version": 3
   },
   "file_extension": ".py",
   "mimetype": "text/x-python",
   "name": "python",
   "nbconvert_exporter": "python",
   "pygments_lexer": "ipython3",
   "version": "3.11.9"
  }
 },
 "nbformat": 4,
 "nbformat_minor": 2
}
